{
 "cells": [
  {
   "cell_type": "markdown",
   "metadata": {},
   "source": [
    "## Python for Geoscientists\n",
    "\n",
    "A notebook-based introduction to python, jupyter notebooks and programming workflows with examples from python packages for the Earth Sciences.\n",
    "\n",
    "\n",
    "![](Images/ImageForLandingPage.png)\n",
    "\n",
    "The material is broken down into a number of sections of, approximately, increasing difficulty. \n",
    "\n",
    "  1. [Introduction to python / jupyter](Introduction2Python/1-IntroductionToIpython.ipynb)\n",
    "  1. [Introduction to version control with git](Introduction2VersionControl/1-GettingStartedWithGit.ipynb)\n",
    "  1. [Getting Started with Numpy / Scipy](Numpy+Scipy/1-IntroductionToNumpy.ipynb)\n",
    "  1. [Introduction to Matplotlib](Plotting/1-IntroductionToMatplotlib.ipynb)\n",
    "  1. [Stripy for meshing / mapping the Sphere](SphericalMeshing/SphericalTriangulations/Ex1-Spherical-Triangulations.ipynb)\n",
    "  1. [Making beautiful and useful maps with Cartopy](Mapping/0-Preliminaries.ipynb)\n",
    "  1. [Finite Differences with numpy](SolveMathProblems/1-IntroductionToNumericalSolutions.ipynb)\n",
    " \n",
    " \n",
    "### Description\n",
    "\n",
    "Python has become a popular language for scientific computing, boasting a rich set of libraries\n",
    "relevant to geoscientists working with data. It has all the friendly features and conveniences you\n",
    "would expect of a modern programming language. The Python programming language offers\n",
    "adaptability and versatility to the types of analyses, modelling, and workflows that geoscientists\n",
    "utilise. The tools and workflows you will explore in this course are presented as Jupyter notebooks\n",
    "and can easily be adapted to your own research.\n",
    "\n",
    "We are also going to focus on problem-solving approaches to computation - developing a systematic approach to programming, testing, debugging and documentation. We will make use of git for version control which is a tool / strategy that you will definitely find helpful in future. We will do all of our work within the literate programming environment of jupyter notebooks / jupyter lab. \n",
    "\n",
    "We will introduce/review the 'standard' scientific python toolkits such as numpy, scipy, matplotlib, pandas. We will teach you how to manipulate and transform data in simple ways, plotting, mapping, visualisation, interpolation, gridding, function fitting, and exporting data / images into common, interchangeable data formats such as hdf5 and netcdf, geotiff.\n",
    "\n",
    "We will learn how to orchestrate common earth science python software applications, seismic data set acquisition and analysis (obspy), meshing and interpolation (stripy). We will learn how to solve very simple differential equations with application to geothermal energy and ground water flow, statistical analysis of data sets.\n",
    "\n",
    "\n",
    "### Dependencies\n",
    "\n",
    "We have distributed this as a Docker image for portability, but it is possible to install python3 and additional dependencies on your computer to make this run natively:\n",
    "\n",
    "- `numpy`\n",
    "- `scipy`\n",
    "- `matplotlib`\n",
    "- `cartopy` (requires GDAL libraries)\n",
    "- `lavavu` (for SphericalTriangulation notebooks only)\n",
    "- `pandas`\n",
    "- `scikit-learn`\n",
    "- `obspy`\n",
    "- `jupyter`\n",
    "\n",
    "These may all be installed with **pip**:\n",
    "\n",
    "```sh\n",
    "python3 -m pip install jupyter\n",
    "```\n",
    "\n",
    "or through **conda**, which comes with [Anaconda](https://docs.anaconda.com/anaconda/install/):\n",
    "\n",
    "```sh\n",
    "conda install jupyter\n",
    "```\n",
    "\n",
    "\n",
    "### Acknowledgements\n",
    "\n",
    "This coursework was created by a number of collaborators whom we want to acknowledge:\n",
    "\n",
    "- Louis Moresi (for the course structure and the majority of the notebooks)\n",
    "- Nathanial Butterworth (machine learning and introductionary notebooks)\n",
    "- Rohitash Chandra (machine learning and data wrangling)\n",
    "- Ben Mather (advanced finite difference notebooks)"
   ]
  }
 ],
 "metadata": {
  "kernel_info": {
   "name": "python3"
  },
  "kernelspec": {
   "display_name": "Python 3",
   "language": "python",
   "name": "python3"
  },
  "language_info": {
   "codemirror_mode": {
    "name": "ipython",
    "version": 3
   },
   "file_extension": ".py",
   "mimetype": "text/x-python",
   "name": "python",
   "nbconvert_exporter": "python",
   "pygments_lexer": "ipython3",
   "version": "3.6.8"
  },
  "nteract": {
   "version": "0.12.3"
  }
 },
 "nbformat": 4,
 "nbformat_minor": 4
}
