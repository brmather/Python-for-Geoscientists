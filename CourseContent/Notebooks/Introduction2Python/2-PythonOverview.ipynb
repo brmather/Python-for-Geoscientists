{
 "cells": [
  {
   "cell_type": "markdown",
   "metadata": {},
   "source": [
    "## Overview of Python features\n",
    "\n",
    "This is a \"Jupyter Notebook\". Formerly an IPython Notebook. It is a good way to document workflows and analysis pipelines. You can have Python, R, Fortran, Julia, etc notebooks. This is a \"Markdown\" cell, you can write notes, equations in latex style, $E=\\kappa A ^m (\\nabla z)^n$, or embed figures. \n",
    "\n",
    "Today we are using a Python kernel to do some cool stuff with Geoscience data. The following cell is your first Python code"
   ]
  },
  {
   "cell_type": "code",
   "execution_count": 1,
   "metadata": {},
   "outputs": [
    {
     "data": {
      "text/plain": [
       "42"
      ]
     },
     "execution_count": 1,
     "metadata": {},
     "output_type": "execute_result"
    }
   ],
   "source": [
    "2+4*10"
   ]
  },
  {
   "cell_type": "code",
   "execution_count": 2,
   "metadata": {},
   "outputs": [],
   "source": [
    "#This is a comment. This is for a human to read (so you remember what your code does!)\n",
    "#Python ignores anything behind the '#'.\n",
    "\n",
    "#The next line is an example of a 'variable'. Assign values using a single '=' sign.\n",
    "time=145"
   ]
  },
  {
   "cell_type": "markdown",
   "metadata": {},
   "source": [
    "Note: A variable (e.g. time) must start with a letter or underscore, and can include a number"
   ]
  },
  {
   "cell_type": "code",
   "execution_count": 3,
   "metadata": {},
   "outputs": [
    {
     "name": "stdout",
     "output_type": "stream",
     "text": [
      "The age of the sample is 145  Million years\n"
     ]
    }
   ],
   "source": [
    "#Now you can use that variable in different ways.... firstly print it out to the screen\n",
    "print(\"The age of the sample is\", time, \" Million years\")"
   ]
  },
  {
   "cell_type": "code",
   "execution_count": 4,
   "metadata": {},
   "outputs": [],
   "source": [
    "#Make a new variable called 'endtime' and add a constant to our 'time' variable\n",
    "endtime=time+56"
   ]
  },
  {
   "cell_type": "code",
   "execution_count": 5,
   "metadata": {},
   "outputs": [
    {
     "name": "stdout",
     "output_type": "stream",
     "text": [
      "201\n"
     ]
    }
   ],
   "source": [
    "#Nothing printed out above? Good. Jupyter Notebooks won't always do that so let's tell Python to print it.\n",
    "print(endtime)"
   ]
  },
  {
   "cell_type": "code",
   "execution_count": 6,
   "metadata": {},
   "outputs": [
    {
     "name": "stdout",
     "output_type": "stream",
     "text": [
      "My sample is  201  Million years old from the Jurassic  age.\n"
     ]
    }
   ],
   "source": [
    "#Make a new 'string' variable\n",
    "geological_age='Jurassic'\n",
    "\n",
    "#Print out some useful information that includes our different variables\n",
    "print(\"My sample is \", endtime, \" Million years old from the\", geological_age, \" age.\")"
   ]
  },
  {
   "cell_type": "code",
   "execution_count": 7,
   "metadata": {},
   "outputs": [
    {
     "name": "stdout",
     "output_type": "stream",
     "text": [
      "[1, 4.5, 8.2, 'Jurassic', 'Another string', True]\n"
     ]
    }
   ],
   "source": [
    "#Make a Python List object, similar to an array.\n",
    "times=[1,4.5,5+3.2,geological_age,\"Another string\",True]\n",
    "\n",
    "print(times)\n",
    "\n",
    "#There are many different types of data types and objects: \n",
    "#int, long, float, complex, NaN, logical, String, Lists, Tuple, Dictionary, functions, classes, etc"
   ]
  },
  {
   "cell_type": "code",
   "execution_count": 8,
   "metadata": {},
   "outputs": [
    {
     "name": "stdout",
     "output_type": "stream",
     "text": [
      "1\n"
     ]
    }
   ],
   "source": [
    "#indexing\n",
    "print(times[0])"
   ]
  },
  {
   "cell_type": "code",
   "execution_count": 9,
   "metadata": {},
   "outputs": [
    {
     "name": "stdout",
     "output_type": "stream",
     "text": [
      "Another string\n"
     ]
    }
   ],
   "source": [
    "print(times[4])"
   ]
  },
  {
   "cell_type": "code",
   "execution_count": 10,
   "metadata": {},
   "outputs": [
    {
     "name": "stdout",
     "output_type": "stream",
     "text": [
      "A\n"
     ]
    }
   ],
   "source": [
    "print(times[4][0])"
   ]
  },
  {
   "cell_type": "markdown",
   "metadata": {},
   "source": [
    "### Functions\n",
    "These are bits of code you want to perhaps use many times, or keep self contained, or refer to at different points. They can take values as input and give values back (or not). "
   ]
  },
  {
   "cell_type": "code",
   "execution_count": 11,
   "metadata": {},
   "outputs": [],
   "source": [
    "#Declare the name of the function\n",
    "def add_numbers(x,y):\n",
    "    '''adds two numbers\n",
    "    usage: myaddition=addnumbers(x,y)\n",
    "    returns: z\n",
    "    inputs: x,y\n",
    "    x and y are two integers\n",
    "    z is the summation of x and y\n",
    "    '''\n",
    "    \n",
    "    z=x+y\n",
    "    \n",
    "    return(z)"
   ]
  },
  {
   "cell_type": "markdown",
   "metadata": {},
   "source": [
    "Note the indentation - Python forces your code to be nicely readable by using 'whitespace'/indentation to signify what chunks of code are related. You will see this more later.\n",
    "    \n",
    "Many functions have a header - formatted as a multiline comment with three '''. This hopefully will tell you about the function\n",
    "\n",
    "Anyway, let's run our function, now that we have initialised it!"
   ]
  },
  {
   "cell_type": "code",
   "execution_count": 12,
   "metadata": {},
   "outputs": [
    {
     "data": {
      "text/plain": [
       "3"
      ]
     },
     "execution_count": 12,
     "metadata": {},
     "output_type": "execute_result"
    }
   ],
   "source": [
    "add_numbers(1,2)"
   ]
  },
  {
   "cell_type": "markdown",
   "metadata": {},
   "source": [
    "#### Challenge \n",
    "\n",
    "Write a function to convert map scale. For example, on a 1:25,000 map (good for hiking!) the distance between two points is 15 cm. How far apart are these in real life? (3750 m).\n",
    "\n",
    "[Reminder: 15 cm * 25000 = 375000 cm = 3750 m]\n",
    "\n",
    "Your function should take as input two numbers:  the distance on the map (in cm) and the second number of the scale and, i.e. `calculate_distance(15, 25000)` should return 375000"
   ]
  },
  {
   "cell_type": "code",
   "execution_count": null,
   "metadata": {},
   "outputs": [],
   "source": [
    "## YOUR CODE HERE"
   ]
  },
  {
   "cell_type": "markdown",
   "metadata": {},
   "source": [
    "### Loops, operators, conditions\n",
    "Python is great for doing something a million times. It can be useful if you have many samples/datapoints and you want to operate or manipulate those points."
   ]
  },
  {
   "cell_type": "code",
   "execution_count": 11,
   "metadata": {},
   "outputs": [
    {
     "name": "stdout",
     "output_type": "stream",
     "text": [
      "1\n",
      "4.5\n",
      "8.2\n",
      "Jurassic\n",
      "Another string\n",
      "True\n"
     ]
    }
   ],
   "source": [
    "#Loop through our list 'times' that we defined above\n",
    "for mything in times:\n",
    "    print(mything)"
   ]
  },
  {
   "cell_type": "markdown",
   "metadata": {},
   "source": [
    "Sometimes you need to loop through a list, but simultaneously keep track of which index you're up to."
   ]
  },
  {
   "cell_type": "code",
   "execution_count": 12,
   "metadata": {},
   "outputs": [
    {
     "name": "stdout",
     "output_type": "stream",
     "text": [
      "index: 0  The thing in my 'times' list: 1\n",
      "index: 1  The thing in my 'times' list: 4.5\n",
      "index: 2  The thing in my 'times' list: 8.2\n",
      "index: 3  The thing in my 'times' list: Jurassic\n",
      "index: 4  The thing in my 'times' list: Another string\n",
      "index: 5  The thing in my 'times' list: True\n"
     ]
    }
   ],
   "source": [
    "for myindex, mything in enumerate(times):\n",
    "    print(\"index:\",myindex,\" The thing in my 'times' list:\",mything)"
   ]
  },
  {
   "cell_type": "markdown",
   "metadata": {},
   "source": [
    "You don't always need a pre-defined list"
   ]
  },
  {
   "cell_type": "code",
   "execution_count": 13,
   "metadata": {},
   "outputs": [
    {
     "name": "stdout",
     "output_type": "stream",
     "text": [
      "time: 145  age: 140  difference: 5\n",
      "time: 145  age: 141  difference: 4\n",
      "time: 145  age: 142  difference: 3\n",
      "time: 145  age: 143  difference: 2\n",
      "time: 145  age: 144  difference: 1\n"
     ]
    }
   ],
   "source": [
    "age=140\n",
    "# What is the value of \"time\" ?\n",
    "# age < time is a \"logical\" data-type. It's either True or False\n",
    "while age < time:\n",
    "    print(\"time:\", time, \" age:\", age, \" difference:\",time-age)\n",
    "    age=age+1"
   ]
  },
  {
   "cell_type": "markdown",
   "metadata": {},
   "source": [
    "#### Control statements"
   ]
  },
  {
   "cell_type": "code",
   "execution_count": 14,
   "metadata": {},
   "outputs": [
    {
     "name": "stdout",
     "output_type": "stream",
     "text": [
      "145\n"
     ]
    }
   ],
   "source": [
    "#Control statements: if, for, while, try, \n",
    "if time < 200:\n",
    "    print(time)"
   ]
  },
  {
   "cell_type": "code",
   "execution_count": 15,
   "metadata": {},
   "outputs": [
    {
     "name": "stdout",
     "output_type": "stream",
     "text": [
      "Jurassic\n"
     ]
    }
   ],
   "source": [
    "if time <= 200:\n",
    "    print(geological_age)\n",
    "elif time > 200:\n",
    "    print(\"Triassic age\")\n",
    "else:\n",
    "    pass #This option is not necessarily needed, but can be useful in some scenarios"
   ]
  },
  {
   "cell_type": "code",
   "execution_count": 16,
   "metadata": {},
   "outputs": [],
   "source": [
    "#Another function\n",
    "def timescale(t):\n",
    "    print(t)\n",
    "    if (t <= 4500) & (t > 2500):\n",
    "        return(\"Archean\")\n",
    "\n",
    "    elif (t <=2500) & (t > 541):\n",
    "        return(\"Proterozoic\")\n",
    "\n",
    "    elif (t <= 541) & (t > 252):\n",
    "        return(\"Palaeozoic\")\n",
    "\n",
    "    elif (t <=252) & (t > 65):\n",
    "        return(\"Mesozoic\")\n",
    "\n",
    "    elif (t <=65) & (t >= 0):\n",
    "        return(\"Cenozoic\")\n",
    "\n",
    "    else:\n",
    "        print (\"Expect number between 0 and 4500, got:\",t)\n",
    "        return(float('nan'))"
   ]
  },
  {
   "cell_type": "code",
   "execution_count": 17,
   "metadata": {},
   "outputs": [
    {
     "name": "stdout",
     "output_type": "stream",
     "text": [
      "1\n"
     ]
    },
    {
     "data": {
      "text/plain": [
       "'Cenozoic'"
      ]
     },
     "execution_count": 17,
     "metadata": {},
     "output_type": "execute_result"
    }
   ],
   "source": [
    "timescale(1)"
   ]
  }
 ],
 "metadata": {
  "kernelspec": {
   "display_name": "Python 3",
   "language": "python",
   "name": "python3"
  },
  "language_info": {
   "codemirror_mode": {
    "name": "ipython",
    "version": 3
   },
   "file_extension": ".py",
   "mimetype": "text/x-python",
   "name": "python",
   "nbconvert_exporter": "python",
   "pygments_lexer": "ipython3",
   "version": "3.7.9"
  }
 },
 "nbformat": 4,
 "nbformat_minor": 2
}
