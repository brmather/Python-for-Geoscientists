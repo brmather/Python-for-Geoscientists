{
 "cells": [
  {
   "cell_type": "markdown",
   "metadata": {},
   "source": [
    "## ipython \n",
    "\n",
    "[ipython](https://ipython.org) is an _interactive_ version of the python interpreter. It provides a number of extras which are helpful when writing code. `ipython` code is almost always `python` code, and the differences are generally only important when editing a code in a live (interactive) environment. \n",
    "\n",
    "The `jupyter` notebook is a fine example of an interactive environment - you are changing the code as it runs and checking answers as you go. Because you may have a lot of half-completed results in an interactive script, you probably want to make as few mistakes as you can. This is the purpose of `ipython`.\n",
    "\n",
    "`ipython` provides access to the help / documentation system, provides tab completion of variable and function names, allows you see see what methods live inside a module ... "
   ]
  },
  {
   "cell_type": "code",
   "execution_count": 1,
   "metadata": {},
   "outputs": [
    {
     "data": {
      "text/plain": [
       "1"
      ]
     },
     "execution_count": 1,
     "metadata": {},
     "output_type": "execute_result"
    }
   ],
   "source": [
    "## Try the autocomplete ... it works on functions that are in scope\n",
    "\n",
    "#print\n",
    "\n",
    "# it also works on variables\n",
    "\n",
    "long_but_helpful_variable_name = 1\n",
    "\n",
    "long_but_helpful_variable_name"
   ]
  },
  {
   "cell_type": "markdown",
   "metadata": {},
   "source": [
    "---\n",
    "\n",
    "It works on modules to list the available methods and variables. Take the `math` module, for example:"
   ]
  },
  {
   "cell_type": "code",
   "execution_count": 5,
   "metadata": {},
   "outputs": [
    {
     "name": "stdout",
     "output_type": "stream",
     "text": [
      "Help on built-in function isnan in module math:\n",
      "\n",
      "isnan(...)\n",
      "    isnan(x) -> bool\n",
      "    \n",
      "    Return True if x is a NaN (not a number), and False otherwise.\n",
      "\n"
     ]
    }
   ],
   "source": [
    "import math\n",
    "\n",
    "math.isinf  # Try completion on this\n",
    "\n",
    "help(math.isnan)\n",
    "\n",
    "# try math.isinf() and hit shift-tab while the cursor is between the parentheses \n",
    "# you should see the same help pop up.\n",
    "\n",
    "# math.isinf()"
   ]
  },
  {
   "cell_type": "markdown",
   "metadata": {},
   "source": [
    "It also provides special operations that allow you to drill down into the underlying shell / filesystem (but these are not standard python code any more). "
   ]
  },
  {
   "cell_type": "code",
   "execution_count": 6,
   "metadata": {},
   "outputs": [
    {
     "name": "stdout",
     "output_type": "stream",
     "text": [
      "1-IntroductionToJupyterNotebooks.ipynb\t4-PythonClasses.ipynb\n",
      "2-IntroductionToIpython.ipynb\t\tIntro_Python_Geo.ipynb\n",
      "3-PythonDataTypes.ipynb\n",
      "\n",
      "/mnt/5841d321-3ba0-461b-990f-27a016f8689f/git/Python-for-Geoscientists/CourseContent/Notebooks/Introduction2Python\n"
     ]
    }
   ],
   "source": [
    "# execute simple unix shell commands \n",
    "\n",
    "!ls\n",
    "\n",
    "!echo \"\"\n",
    "\n",
    "!pwd"
   ]
  },
  {
   "cell_type": "markdown",
   "metadata": {},
   "source": [
    "---\n",
    "\n",
    "Another way to do this is to use the __cell magic__ functionality to direct the notebook to change the cell to something different (here everything in the cell is interpreted as a unix shell ) "
   ]
  },
  {
   "cell_type": "code",
   "execution_count": 7,
   "metadata": {},
   "outputs": [
    {
     "name": "stdout",
     "output_type": "stream",
     "text": [
      "total 308\n",
      "-rw-rw-r-- 1 ben ben   8723 May 10 09:45 1-IntroductionToJupyterNotebooks.ipynb\n",
      "-rw-rw-r-- 1 ben ben   6932 May 10 09:45 2-IntroductionToIpython.ipynb\n",
      "-rw-rw-r-- 1 ben ben  27557 May 10 09:45 3-PythonDataTypes.ipynb\n",
      "-rw-rw-r-- 1 ben ben  14186 May 10 09:45 4-PythonClasses.ipynb\n",
      "-rw-rw-r-- 1 ben ben 249388 May 10 16:53 Intro_Python_Geo.ipynb\n",
      "\n",
      "/mnt/5841d321-3ba0-461b-990f-27a016f8689f/git/Python-for-Geoscientists/CourseContent/Notebooks/Introduction2Python\n"
     ]
    }
   ],
   "source": [
    "%%sh \n",
    "\n",
    "ls -l\n",
    "\n",
    "echo \"\"\n",
    "\n",
    "pwd"
   ]
  },
  {
   "cell_type": "markdown",
   "metadata": {},
   "source": [
    "---\n",
    "\n",
    "I don't advise using this too often as the code becomes more difficult to convert to python. \n",
    "\n",
    "  - A `%` is a one-line magic function that can go anywhere in the cell. \n",
    "  - A `%%` is a cell-wide function \n",
    "\n",
    "\n"
   ]
  },
  {
   "cell_type": "code",
   "execution_count": 8,
   "metadata": {},
   "outputs": [],
   "source": [
    "%magic  # to see EVERYTHING in the magic system !"
   ]
  },
  {
   "cell_type": "markdown",
   "metadata": {},
   "source": [
    "\n",
    "Useful magic functions:\n",
    "\n",
    "   - `%matplotlib inline` makes plots appear in the notebook and not an external window\n",
    "   - `%run FILE` runs the contents of the file in place of the given cell \n",
    "   - `%%timeit` times how long the cell takes to run\n",
    "   \n",
    "---\n"
   ]
  },
  {
   "cell_type": "markdown",
   "metadata": {},
   "source": [
    "You can also run ipython in the terminal / shell on this machine. You will see that some of the interactivity still works in a text environment but not all of the pop up help is as helpful as in the notebooks.\n",
    "\n",
    "<a href=\"/terminals/1\"> Terminal </a>"
   ]
  }
 ],
 "metadata": {
  "kernelspec": {
   "display_name": "Python 3",
   "language": "python",
   "name": "python3"
  },
  "language_info": {
   "codemirror_mode": {
    "name": "ipython",
    "version": 3
   },
   "file_extension": ".py",
   "mimetype": "text/x-python",
   "name": "python",
   "nbconvert_exporter": "python",
   "pygments_lexer": "ipython3",
   "version": "3.7.9"
  }
 },
 "nbformat": 4,
 "nbformat_minor": 2
}
